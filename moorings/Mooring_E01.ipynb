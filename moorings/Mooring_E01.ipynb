{
 "cells": [
  {
   "cell_type": "markdown",
   "id": "254f3547-ad51-408d-ab97-471210b8f2f4",
   "metadata": {},
   "source": [
    "## E01\n",
    "\n",
    "This page is a python notebook!"
   ]
  },
  {
   "cell_type": "code",
   "execution_count": null,
   "id": "2dc9cbcd-27e0-4c6a-b81a-2fe3005ce17c",
   "metadata": {},
   "outputs": [],
   "source": []
  }
 ],
 "metadata": {
  "kernelspec": {
   "display_name": "Python 3 (ipykernel)",
   "language": "python",
   "name": "python3"
  },
  "language_info": {
   "codemirror_mode": {
    "name": "ipython",
    "version": 3
   },
   "file_extension": ".py",
   "mimetype": "text/x-python",
   "name": "python",
   "nbconvert_exporter": "python",
   "pygments_lexer": "ipython3",
   "version": "3.9.16"
  }
 },
 "nbformat": 4,
 "nbformat_minor": 5
}
